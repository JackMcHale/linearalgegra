{
  "nbformat": 4,
  "nbformat_minor": 0,
  "metadata": {
    "colab": {
      "name": "LA4DS_ch02.ipynb",
      "provenance": []
    },
    "kernelspec": {
      "name": "python3",
      "display_name": "Python 3"
    },
    "language_info": {
      "name": "python"
    }
  },
  "cells": [
    {
      "cell_type": "markdown",
      "source": [
        "# Practical Linear Algebra for Data Science\n",
        "## Mike X Cohen (sincxpress.com)\n",
        "### https://www.oreilly.com/library/view/practical-linear-algebra/9781098120603/\n",
        "\n",
        "#### Code for chapter 2"
      ],
      "metadata": {
        "id": "SbGFWGzkd44U"
      }
    },
    {
      "cell_type": "code",
      "metadata": {
        "id": "tY0IlmddejbI"
      },
      "source": [
        "# import libraries\n",
        "import numpy as np\n",
        "import matplotlib.pyplot as plt\n",
        "\n",
        "\n",
        "# NOTE: these lines define global figure properties used for publication.\n",
        "import matplotlib_inline.backend_inline\n",
        "matplotlib_inline.backend_inline.set_matplotlib_formats('svg') # display figures in vector format\n",
        "plt.rcParams.update({'font.size':14}) # set global font size"
      ],
      "execution_count": 2,
      "outputs": []
    },
    {
      "cell_type": "markdown",
      "metadata": {
        "id": "lILGCfNmeaoR"
      },
      "source": [
        "# Creating vectors"
      ]
    },
    {
      "cell_type": "code",
      "metadata": {
        "id": "9AoQthPKegez"
      },
      "source": [
        "# a vector as a Python list datatype\n",
        "asList = [1,2,3]\n",
        "\n",
        "# same numbers, but as a dimensionless numpy array\n",
        "asArray = np.array([1,2,3])\n",
        "\n",
        "# again same numbers, but now endowed with orientations\n",
        "rowVec = np.array([ [1,2,3] ]) # row\n",
        "colVec = np.array([ [1],[2],[3] ]) # column\n",
        "\n",
        "# Note the use of spacing when defining the vectors; that is not necessary but makes the code more readable."
      ],
      "execution_count": 4,
      "outputs": []
    },
    {
      "cell_type": "code",
      "metadata": {
        "id": "pKu9GCbSeghU",
        "colab": {
          "base_uri": "https://localhost:8080/"
        },
        "outputId": "20198e1e-bdae-46cd-ec85-c514203166b3"
      },
      "source": [
        "# Check the sizes of the variables\n",
        "print(f'asList:  {np.shape(asList)}') # using np's shape function\n",
        "print(f'asArray: {asArray.shape}') # using a method associated with numpy objects\n",
        "print(f'rowVec:  {rowVec.shape}')\n",
        "print(f'colVec:  {colVec.shape}')"
      ],
      "execution_count": 5,
      "outputs": [
        {
          "output_type": "stream",
          "name": "stdout",
          "text": [
            "asList:  (3,)\n",
            "asArray: (3,)\n",
            "rowVec:  (1, 3)\n",
            "colVec:  (3, 1)\n"
          ]
        }
      ]
    },
    {
      "cell_type": "markdown",
      "source": [],
      "metadata": {
        "id": "dnr81ICTYmjB"
      }
    },
    {
      "cell_type": "markdown",
      "source": [],
      "metadata": {
        "id": "mhlAUJgvYmVY"
      }
    },
    {
      "cell_type": "markdown",
      "metadata": {
        "id": "7vK1qpzpegkN"
      },
      "source": [
        "# Geometry of vectors"
      ]
    },
    {
      "cell_type": "code",
      "metadata": {
        "id": "yQ0gPgH4fBLy",
        "colab": {
          "base_uri": "https://localhost:8080/",
          "height": 471
        },
        "outputId": "de5d9915-1c43-4a60-f621-9804663803e5"
      },
      "source": [
        "# create a vector\n",
        "v = np.array([-1,2])\n",
        "\n",
        "# plot that vector (and a dot for the tail)\n",
        "plt.arrow(0,0,v[0],v[1],head_width=.5,width=.1)\n",
        "plt.plot(0,0,'ko',markerfacecolor='k',markersize=7)\n",
        "\n",
        "# add axis lines\n",
        "plt.plot([-3,3],[0,0],'--',color=[.8,.8,.8],zorder=-1)\n",
        "plt.plot([0,0],[-3,3],'--',color=[.8,.8,.8],zorder=-1)\n",
        "\n",
        "# make the plot look nicer\n",
        "plt.axis('square')\n",
        "plt.axis([-3,3,-3,3])\n",
        "plt.xlabel('$v_0$')\n",
        "plt.ylabel('$v_1$')\n",
        "plt.title('Vector v in standard position')\n",
        "plt.show()"
      ],
      "execution_count": 6,
      "outputs": [
        {
          "output_type": "display_data",
          "data": {
            "text/plain": [
              "<Figure size 640x480 with 1 Axes>"
            ],
            "image/svg+xml": "<?xml version=\"1.0\" encoding=\"utf-8\" standalone=\"no\"?>\n<!DOCTYPE svg PUBLIC \"-//W3C//DTD SVG 1.1//EN\"\n  \"http://www.w3.org/Graphics/SVG/1.1/DTD/svg11.dtd\">\n<svg xmlns:xlink=\"http://www.w3.org/1999/xlink\" width=\"330.154187pt\" height=\"337.376125pt\" viewBox=\"0 0 330.154187 337.376125\" xmlns=\"http://www.w3.org/2000/svg\" version=\"1.1\">\n <metadata>\n  <rdf:RDF xmlns:dc=\"http://purl.org/dc/elements/1.1/\" xmlns:cc=\"http://creativecommons.org/ns#\" xmlns:rdf=\"http://www.w3.org/1999/02/22-rdf-syntax-ns#\">\n   <cc:Work>\n    <dc:type rdf:resource=\"http://purl.org/dc/dcmitype/StillImage\"/>\n    <dc:date>2025-08-22T20:05:26.203860</dc:date>\n    <dc:format>image/svg+xml</dc:format>\n    <dc:creator>\n     <cc:Agent>\n      <dc:title>Matplotlib v3.10.0, https://matplotlib.org/</dc:title>\n     </cc:Agent>\n    </dc:creator>\n   </cc:Work>\n  </rdf:RDF>\n </metadata>\n <defs>\n  <style type=\"text/css\">*{stroke-linejoin: round; stroke-linecap: butt}</style>\n </defs>\n <g id=\"figure_1\">\n  <g id=\"patch_1\">\n   <path d=\"M 0 337.376125 \nL 330.154187 337.376125 \nL 330.154187 0 \nL 0 0 \nz\n\" style=\"fill: #ffffff\"/>\n  </g>\n  <g id=\"axes_1\">\n   <g id=\"patch_2\">\n    <path d=\"M 52.388438 292.077375 \nL 318.500437 292.077375 \nL 318.500437 25.965375 \nL 52.388438 25.965375 \nz\n\" style=\"fill: #ffffff\"/>\n   </g>\n   <g id=\"line2d_1\">\n    <path d=\"M 52.388438 159.021375 \nL 318.500437 159.021375 \n\" clip-path=\"url(#p263e0d8209)\" style=\"fill: none; stroke-dasharray: 5.55,2.4; stroke-dashoffset: 0; stroke: #cccccc; stroke-width: 1.5\"/>\n   </g>\n   <g id=\"line2d_2\">\n    <path d=\"M 185.444437 292.077375 \nL 185.444437 25.965375 \n\" clip-path=\"url(#p263e0d8209)\" style=\"fill: none; stroke-dasharray: 5.55,2.4; stroke-dashoffset: 0; stroke: #cccccc; stroke-width: 1.5\"/>\n   </g>\n   <g id=\"patch_3\">\n    <path d=\"M 126.216324 40.565149 \nL 151.009846 65.358671 \nL 143.075919 69.325634 \nL 187.427919 158.029634 \nL 183.460956 160.013116 \nL 139.108956 71.309116 \nL 131.175029 75.276079 \nz\n\" clip-path=\"url(#p263e0d8209)\" style=\"fill: #1f77b4; stroke: #000000; stroke-linejoin: miter\"/>\n   </g>\n   <g id=\"matplotlib.axis_1\">\n    <g id=\"xtick_1\">\n     <g id=\"line2d_3\">\n      <defs>\n       <path id=\"m1261c49e9e\" d=\"M 0 0 \nL 0 3.5 \n\" style=\"stroke: #000000; stroke-width: 0.8\"/>\n      </defs>\n      <g>\n       <use xlink:href=\"#m1261c49e9e\" x=\"52.388438\" y=\"292.077375\" style=\"stroke: #000000; stroke-width: 0.8\"/>\n      </g>\n     </g>\n     <g id=\"text_1\">\n      <!-- −3 -->\n      <g transform=\"translate(42.068906 309.715187) scale(0.14 -0.14)\">\n       <defs>\n        <path id=\"DejaVuSans-2212\" d=\"M 678 2272 \nL 4684 2272 \nL 4684 1741 \nL 678 1741 \nL 678 2272 \nz\n\" transform=\"scale(0.015625)\"/>\n        <path id=\"DejaVuSans-33\" d=\"M 2597 2516 \nQ 3050 2419 3304 2112 \nQ 3559 1806 3559 1356 \nQ 3559 666 3084 287 \nQ 2609 -91 1734 -91 \nQ 1441 -91 1130 -33 \nQ 819 25 488 141 \nL 488 750 \nQ 750 597 1062 519 \nQ 1375 441 1716 441 \nQ 2309 441 2620 675 \nQ 2931 909 2931 1356 \nQ 2931 1769 2642 2001 \nQ 2353 2234 1838 2234 \nL 1294 2234 \nL 1294 2753 \nL 1863 2753 \nQ 2328 2753 2575 2939 \nQ 2822 3125 2822 3475 \nQ 2822 3834 2567 4026 \nQ 2313 4219 1838 4219 \nQ 1578 4219 1281 4162 \nQ 984 4106 628 3988 \nL 628 4550 \nQ 988 4650 1302 4700 \nQ 1616 4750 1894 4750 \nQ 2613 4750 3031 4423 \nQ 3450 4097 3450 3541 \nQ 3450 3153 3228 2886 \nQ 3006 2619 2597 2516 \nz\n\" transform=\"scale(0.015625)\"/>\n       </defs>\n       <use xlink:href=\"#DejaVuSans-2212\"/>\n       <use xlink:href=\"#DejaVuSans-33\" transform=\"translate(83.789062 0)\"/>\n      </g>\n     </g>\n    </g>\n    <g id=\"xtick_2\">\n     <g id=\"line2d_4\">\n      <g>\n       <use xlink:href=\"#m1261c49e9e\" x=\"96.740438\" y=\"292.077375\" style=\"stroke: #000000; stroke-width: 0.8\"/>\n      </g>\n     </g>\n     <g id=\"text_2\">\n      <!-- −2 -->\n      <g transform=\"translate(86.420906 309.715187) scale(0.14 -0.14)\">\n       <defs>\n        <path id=\"DejaVuSans-32\" d=\"M 1228 531 \nL 3431 531 \nL 3431 0 \nL 469 0 \nL 469 531 \nQ 828 903 1448 1529 \nQ 2069 2156 2228 2338 \nQ 2531 2678 2651 2914 \nQ 2772 3150 2772 3378 \nQ 2772 3750 2511 3984 \nQ 2250 4219 1831 4219 \nQ 1534 4219 1204 4116 \nQ 875 4013 500 3803 \nL 500 4441 \nQ 881 4594 1212 4672 \nQ 1544 4750 1819 4750 \nQ 2544 4750 2975 4387 \nQ 3406 4025 3406 3419 \nQ 3406 3131 3298 2873 \nQ 3191 2616 2906 2266 \nQ 2828 2175 2409 1742 \nQ 1991 1309 1228 531 \nz\n\" transform=\"scale(0.015625)\"/>\n       </defs>\n       <use xlink:href=\"#DejaVuSans-2212\"/>\n       <use xlink:href=\"#DejaVuSans-32\" transform=\"translate(83.789062 0)\"/>\n      </g>\n     </g>\n    </g>\n    <g id=\"xtick_3\">\n     <g id=\"line2d_5\">\n      <g>\n       <use xlink:href=\"#m1261c49e9e\" x=\"141.092438\" y=\"292.077375\" style=\"stroke: #000000; stroke-width: 0.8\"/>\n      </g>\n     </g>\n     <g id=\"text_3\">\n      <!-- −1 -->\n      <g transform=\"translate(130.772906 309.715187) scale(0.14 -0.14)\">\n       <defs>\n        <path id=\"DejaVuSans-31\" d=\"M 794 531 \nL 1825 531 \nL 1825 4091 \nL 703 3866 \nL 703 4441 \nL 1819 4666 \nL 2450 4666 \nL 2450 531 \nL 3481 531 \nL 3481 0 \nL 794 0 \nL 794 531 \nz\n\" transform=\"scale(0.015625)\"/>\n       </defs>\n       <use xlink:href=\"#DejaVuSans-2212\"/>\n       <use xlink:href=\"#DejaVuSans-31\" transform=\"translate(83.789062 0)\"/>\n      </g>\n     </g>\n    </g>\n    <g id=\"xtick_4\">\n     <g id=\"line2d_6\">\n      <g>\n       <use xlink:href=\"#m1261c49e9e\" x=\"185.444437\" y=\"292.077375\" style=\"stroke: #000000; stroke-width: 0.8\"/>\n      </g>\n     </g>\n     <g id=\"text_4\">\n      <!-- 0 -->\n      <g transform=\"translate(180.990687 309.715187) scale(0.14 -0.14)\">\n       <defs>\n        <path id=\"DejaVuSans-30\" d=\"M 2034 4250 \nQ 1547 4250 1301 3770 \nQ 1056 3291 1056 2328 \nQ 1056 1369 1301 889 \nQ 1547 409 2034 409 \nQ 2525 409 2770 889 \nQ 3016 1369 3016 2328 \nQ 3016 3291 2770 3770 \nQ 2525 4250 2034 4250 \nz\nM 2034 4750 \nQ 2819 4750 3233 4129 \nQ 3647 3509 3647 2328 \nQ 3647 1150 3233 529 \nQ 2819 -91 2034 -91 \nQ 1250 -91 836 529 \nQ 422 1150 422 2328 \nQ 422 3509 836 4129 \nQ 1250 4750 2034 4750 \nz\n\" transform=\"scale(0.015625)\"/>\n       </defs>\n       <use xlink:href=\"#DejaVuSans-30\"/>\n      </g>\n     </g>\n    </g>\n    <g id=\"xtick_5\">\n     <g id=\"line2d_7\">\n      <g>\n       <use xlink:href=\"#m1261c49e9e\" x=\"229.796437\" y=\"292.077375\" style=\"stroke: #000000; stroke-width: 0.8\"/>\n      </g>\n     </g>\n     <g id=\"text_5\">\n      <!-- 1 -->\n      <g transform=\"translate(225.342687 309.715187) scale(0.14 -0.14)\">\n       <use xlink:href=\"#DejaVuSans-31\"/>\n      </g>\n     </g>\n    </g>\n    <g id=\"xtick_6\">\n     <g id=\"line2d_8\">\n      <g>\n       <use xlink:href=\"#m1261c49e9e\" x=\"274.148438\" y=\"292.077375\" style=\"stroke: #000000; stroke-width: 0.8\"/>\n      </g>\n     </g>\n     <g id=\"text_6\">\n      <!-- 2 -->\n      <g transform=\"translate(269.694687 309.715187) scale(0.14 -0.14)\">\n       <use xlink:href=\"#DejaVuSans-32\"/>\n      </g>\n     </g>\n    </g>\n    <g id=\"xtick_7\">\n     <g id=\"line2d_9\">\n      <g>\n       <use xlink:href=\"#m1261c49e9e\" x=\"318.500437\" y=\"292.077375\" style=\"stroke: #000000; stroke-width: 0.8\"/>\n      </g>\n     </g>\n     <g id=\"text_7\">\n      <!-- 3 -->\n      <g transform=\"translate(314.046687 309.715187) scale(0.14 -0.14)\">\n       <use xlink:href=\"#DejaVuSans-33\"/>\n      </g>\n     </g>\n    </g>\n    <g id=\"text_8\">\n     <!-- $v_0$ -->\n     <g transform=\"translate(177.954437 327.264562) scale(0.14 -0.14)\">\n      <defs>\n       <path id=\"DejaVuSans-Oblique-76\" d=\"M 459 3500 \nL 1069 3500 \nL 1581 525 \nL 3256 3500 \nL 3866 3500 \nL 1875 0 \nL 1100 0 \nL 459 3500 \nz\n\" transform=\"scale(0.015625)\"/>\n      </defs>\n      <use xlink:href=\"#DejaVuSans-Oblique-76\" transform=\"translate(0 0.3125)\"/>\n      <use xlink:href=\"#DejaVuSans-30\" transform=\"translate(59.179688 -16.09375) scale(0.7)\"/>\n     </g>\n    </g>\n   </g>\n   <g id=\"matplotlib.axis_2\">\n    <g id=\"ytick_1\">\n     <g id=\"line2d_10\">\n      <defs>\n       <path id=\"m670155f4f4\" d=\"M 0 0 \nL -3.5 0 \n\" style=\"stroke: #000000; stroke-width: 0.8\"/>\n      </defs>\n      <g>\n       <use xlink:href=\"#m670155f4f4\" x=\"52.388438\" y=\"292.077375\" style=\"stroke: #000000; stroke-width: 0.8\"/>\n      </g>\n     </g>\n     <g id=\"text_9\">\n      <!-- −3 -->\n      <g transform=\"translate(24.749375 297.396281) scale(0.14 -0.14)\">\n       <use xlink:href=\"#DejaVuSans-2212\"/>\n       <use xlink:href=\"#DejaVuSans-33\" transform=\"translate(83.789062 0)\"/>\n      </g>\n     </g>\n    </g>\n    <g id=\"ytick_2\">\n     <g id=\"line2d_11\">\n      <g>\n       <use xlink:href=\"#m670155f4f4\" x=\"52.388438\" y=\"247.725375\" style=\"stroke: #000000; stroke-width: 0.8\"/>\n      </g>\n     </g>\n     <g id=\"text_10\">\n      <!-- −2 -->\n      <g transform=\"translate(24.749375 253.044281) scale(0.14 -0.14)\">\n       <use xlink:href=\"#DejaVuSans-2212\"/>\n       <use xlink:href=\"#DejaVuSans-32\" transform=\"translate(83.789062 0)\"/>\n      </g>\n     </g>\n    </g>\n    <g id=\"ytick_3\">\n     <g id=\"line2d_12\">\n      <g>\n       <use xlink:href=\"#m670155f4f4\" x=\"52.388438\" y=\"203.373375\" style=\"stroke: #000000; stroke-width: 0.8\"/>\n      </g>\n     </g>\n     <g id=\"text_11\">\n      <!-- −1 -->\n      <g transform=\"translate(24.749375 208.692281) scale(0.14 -0.14)\">\n       <use xlink:href=\"#DejaVuSans-2212\"/>\n       <use xlink:href=\"#DejaVuSans-31\" transform=\"translate(83.789062 0)\"/>\n      </g>\n     </g>\n    </g>\n    <g id=\"ytick_4\">\n     <g id=\"line2d_13\">\n      <g>\n       <use xlink:href=\"#m670155f4f4\" x=\"52.388438\" y=\"159.021375\" style=\"stroke: #000000; stroke-width: 0.8\"/>\n      </g>\n     </g>\n     <g id=\"text_12\">\n      <!-- 0 -->\n      <g transform=\"translate(36.480938 164.340281) scale(0.14 -0.14)\">\n       <use xlink:href=\"#DejaVuSans-30\"/>\n      </g>\n     </g>\n    </g>\n    <g id=\"ytick_5\">\n     <g id=\"line2d_14\">\n      <g>\n       <use xlink:href=\"#m670155f4f4\" x=\"52.388438\" y=\"114.669375\" style=\"stroke: #000000; stroke-width: 0.8\"/>\n      </g>\n     </g>\n     <g id=\"text_13\">\n      <!-- 1 -->\n      <g transform=\"translate(36.480938 119.988281) scale(0.14 -0.14)\">\n       <use xlink:href=\"#DejaVuSans-31\"/>\n      </g>\n     </g>\n    </g>\n    <g id=\"ytick_6\">\n     <g id=\"line2d_15\">\n      <g>\n       <use xlink:href=\"#m670155f4f4\" x=\"52.388438\" y=\"70.317375\" style=\"stroke: #000000; stroke-width: 0.8\"/>\n      </g>\n     </g>\n     <g id=\"text_14\">\n      <!-- 2 -->\n      <g transform=\"translate(36.480938 75.636281) scale(0.14 -0.14)\">\n       <use xlink:href=\"#DejaVuSans-32\"/>\n      </g>\n     </g>\n    </g>\n    <g id=\"ytick_7\">\n     <g id=\"line2d_16\">\n      <g>\n       <use xlink:href=\"#m670155f4f4\" x=\"52.388438\" y=\"25.965375\" style=\"stroke: #000000; stroke-width: 0.8\"/>\n      </g>\n     </g>\n     <g id=\"text_15\">\n      <!-- 3 -->\n      <g transform=\"translate(36.480938 31.284281) scale(0.14 -0.14)\">\n       <use xlink:href=\"#DejaVuSans-33\"/>\n      </g>\n     </g>\n    </g>\n    <g id=\"text_16\">\n     <!-- $v_1$ -->\n     <g transform=\"translate(17.837813 166.511375) rotate(-90) scale(0.14 -0.14)\">\n      <use xlink:href=\"#DejaVuSans-Oblique-76\" transform=\"translate(0 0.3125)\"/>\n      <use xlink:href=\"#DejaVuSans-31\" transform=\"translate(59.179688 -16.09375) scale(0.7)\"/>\n     </g>\n    </g>\n   </g>\n   <g id=\"line2d_17\">\n    <defs>\n     <path id=\"m52c0fbd7d8\" d=\"M 0 3.5 \nC 0.928211 3.5 1.81853 3.131218 2.474874 2.474874 \nC 3.131218 1.81853 3.5 0.928211 3.5 0 \nC 3.5 -0.928211 3.131218 -1.81853 2.474874 -2.474874 \nC 1.81853 -3.131218 0.928211 -3.5 0 -3.5 \nC -0.928211 -3.5 -1.81853 -3.131218 -2.474874 -2.474874 \nC -3.131218 -1.81853 -3.5 -0.928211 -3.5 0 \nC -3.5 0.928211 -3.131218 1.81853 -2.474874 2.474874 \nC -1.81853 3.131218 -0.928211 3.5 0 3.5 \nz\n\" style=\"stroke: #000000\"/>\n    </defs>\n    <g clip-path=\"url(#p263e0d8209)\">\n     <use xlink:href=\"#m52c0fbd7d8\" x=\"185.444437\" y=\"159.021375\" style=\"stroke: #000000\"/>\n    </g>\n   </g>\n   <g id=\"patch_4\">\n    <path d=\"M 52.388438 292.077375 \nL 52.388438 25.965375 \n\" style=\"fill: none; stroke: #000000; stroke-width: 0.8; stroke-linejoin: miter; stroke-linecap: square\"/>\n   </g>\n   <g id=\"patch_5\">\n    <path d=\"M 318.500437 292.077375 \nL 318.500437 25.965375 \n\" style=\"fill: none; stroke: #000000; stroke-width: 0.8; stroke-linejoin: miter; stroke-linecap: square\"/>\n   </g>\n   <g id=\"patch_6\">\n    <path d=\"M 52.388438 292.077375 \nL 318.500437 292.077375 \n\" style=\"fill: none; stroke: #000000; stroke-width: 0.8; stroke-linejoin: miter; stroke-linecap: square\"/>\n   </g>\n   <g id=\"patch_7\">\n    <path d=\"M 52.388438 25.965375 \nL 318.500437 25.965375 \n\" style=\"fill: none; stroke: #000000; stroke-width: 0.8; stroke-linejoin: miter; stroke-linecap: square\"/>\n   </g>\n   <g id=\"text_17\">\n    <!-- Vector v in standard position -->\n    <g transform=\"translate(64.8375 19.965375) scale(0.168 -0.168)\">\n     <defs>\n      <path id=\"DejaVuSans-56\" d=\"M 1831 0 \nL 50 4666 \nL 709 4666 \nL 2188 738 \nL 3669 4666 \nL 4325 4666 \nL 2547 0 \nL 1831 0 \nz\n\" transform=\"scale(0.015625)\"/>\n      <path id=\"DejaVuSans-65\" d=\"M 3597 1894 \nL 3597 1613 \nL 953 1613 \nQ 991 1019 1311 708 \nQ 1631 397 2203 397 \nQ 2534 397 2845 478 \nQ 3156 559 3463 722 \nL 3463 178 \nQ 3153 47 2828 -22 \nQ 2503 -91 2169 -91 \nQ 1331 -91 842 396 \nQ 353 884 353 1716 \nQ 353 2575 817 3079 \nQ 1281 3584 2069 3584 \nQ 2775 3584 3186 3129 \nQ 3597 2675 3597 1894 \nz\nM 3022 2063 \nQ 3016 2534 2758 2815 \nQ 2500 3097 2075 3097 \nQ 1594 3097 1305 2825 \nQ 1016 2553 972 2059 \nL 3022 2063 \nz\n\" transform=\"scale(0.015625)\"/>\n      <path id=\"DejaVuSans-63\" d=\"M 3122 3366 \nL 3122 2828 \nQ 2878 2963 2633 3030 \nQ 2388 3097 2138 3097 \nQ 1578 3097 1268 2742 \nQ 959 2388 959 1747 \nQ 959 1106 1268 751 \nQ 1578 397 2138 397 \nQ 2388 397 2633 464 \nQ 2878 531 3122 666 \nL 3122 134 \nQ 2881 22 2623 -34 \nQ 2366 -91 2075 -91 \nQ 1284 -91 818 406 \nQ 353 903 353 1747 \nQ 353 2603 823 3093 \nQ 1294 3584 2113 3584 \nQ 2378 3584 2631 3529 \nQ 2884 3475 3122 3366 \nz\n\" transform=\"scale(0.015625)\"/>\n      <path id=\"DejaVuSans-74\" d=\"M 1172 4494 \nL 1172 3500 \nL 2356 3500 \nL 2356 3053 \nL 1172 3053 \nL 1172 1153 \nQ 1172 725 1289 603 \nQ 1406 481 1766 481 \nL 2356 481 \nL 2356 0 \nL 1766 0 \nQ 1100 0 847 248 \nQ 594 497 594 1153 \nL 594 3053 \nL 172 3053 \nL 172 3500 \nL 594 3500 \nL 594 4494 \nL 1172 4494 \nz\n\" transform=\"scale(0.015625)\"/>\n      <path id=\"DejaVuSans-6f\" d=\"M 1959 3097 \nQ 1497 3097 1228 2736 \nQ 959 2375 959 1747 \nQ 959 1119 1226 758 \nQ 1494 397 1959 397 \nQ 2419 397 2687 759 \nQ 2956 1122 2956 1747 \nQ 2956 2369 2687 2733 \nQ 2419 3097 1959 3097 \nz\nM 1959 3584 \nQ 2709 3584 3137 3096 \nQ 3566 2609 3566 1747 \nQ 3566 888 3137 398 \nQ 2709 -91 1959 -91 \nQ 1206 -91 779 398 \nQ 353 888 353 1747 \nQ 353 2609 779 3096 \nQ 1206 3584 1959 3584 \nz\n\" transform=\"scale(0.015625)\"/>\n      <path id=\"DejaVuSans-72\" d=\"M 2631 2963 \nQ 2534 3019 2420 3045 \nQ 2306 3072 2169 3072 \nQ 1681 3072 1420 2755 \nQ 1159 2438 1159 1844 \nL 1159 0 \nL 581 0 \nL 581 3500 \nL 1159 3500 \nL 1159 2956 \nQ 1341 3275 1631 3429 \nQ 1922 3584 2338 3584 \nQ 2397 3584 2469 3576 \nQ 2541 3569 2628 3553 \nL 2631 2963 \nz\n\" transform=\"scale(0.015625)\"/>\n      <path id=\"DejaVuSans-20\" transform=\"scale(0.015625)\"/>\n      <path id=\"DejaVuSans-76\" d=\"M 191 3500 \nL 800 3500 \nL 1894 563 \nL 2988 3500 \nL 3597 3500 \nL 2284 0 \nL 1503 0 \nL 191 3500 \nz\n\" transform=\"scale(0.015625)\"/>\n      <path id=\"DejaVuSans-69\" d=\"M 603 3500 \nL 1178 3500 \nL 1178 0 \nL 603 0 \nL 603 3500 \nz\nM 603 4863 \nL 1178 4863 \nL 1178 4134 \nL 603 4134 \nL 603 4863 \nz\n\" transform=\"scale(0.015625)\"/>\n      <path id=\"DejaVuSans-6e\" d=\"M 3513 2113 \nL 3513 0 \nL 2938 0 \nL 2938 2094 \nQ 2938 2591 2744 2837 \nQ 2550 3084 2163 3084 \nQ 1697 3084 1428 2787 \nQ 1159 2491 1159 1978 \nL 1159 0 \nL 581 0 \nL 581 3500 \nL 1159 3500 \nL 1159 2956 \nQ 1366 3272 1645 3428 \nQ 1925 3584 2291 3584 \nQ 2894 3584 3203 3211 \nQ 3513 2838 3513 2113 \nz\n\" transform=\"scale(0.015625)\"/>\n      <path id=\"DejaVuSans-73\" d=\"M 2834 3397 \nL 2834 2853 \nQ 2591 2978 2328 3040 \nQ 2066 3103 1784 3103 \nQ 1356 3103 1142 2972 \nQ 928 2841 928 2578 \nQ 928 2378 1081 2264 \nQ 1234 2150 1697 2047 \nL 1894 2003 \nQ 2506 1872 2764 1633 \nQ 3022 1394 3022 966 \nQ 3022 478 2636 193 \nQ 2250 -91 1575 -91 \nQ 1294 -91 989 -36 \nQ 684 19 347 128 \nL 347 722 \nQ 666 556 975 473 \nQ 1284 391 1588 391 \nQ 1994 391 2212 530 \nQ 2431 669 2431 922 \nQ 2431 1156 2273 1281 \nQ 2116 1406 1581 1522 \nL 1381 1569 \nQ 847 1681 609 1914 \nQ 372 2147 372 2553 \nQ 372 3047 722 3315 \nQ 1072 3584 1716 3584 \nQ 2034 3584 2315 3537 \nQ 2597 3491 2834 3397 \nz\n\" transform=\"scale(0.015625)\"/>\n      <path id=\"DejaVuSans-61\" d=\"M 2194 1759 \nQ 1497 1759 1228 1600 \nQ 959 1441 959 1056 \nQ 959 750 1161 570 \nQ 1363 391 1709 391 \nQ 2188 391 2477 730 \nQ 2766 1069 2766 1631 \nL 2766 1759 \nL 2194 1759 \nz\nM 3341 1997 \nL 3341 0 \nL 2766 0 \nL 2766 531 \nQ 2569 213 2275 61 \nQ 1981 -91 1556 -91 \nQ 1019 -91 701 211 \nQ 384 513 384 1019 \nQ 384 1609 779 1909 \nQ 1175 2209 1959 2209 \nL 2766 2209 \nL 2766 2266 \nQ 2766 2663 2505 2880 \nQ 2244 3097 1772 3097 \nQ 1472 3097 1187 3025 \nQ 903 2953 641 2809 \nL 641 3341 \nQ 956 3463 1253 3523 \nQ 1550 3584 1831 3584 \nQ 2591 3584 2966 3190 \nQ 3341 2797 3341 1997 \nz\n\" transform=\"scale(0.015625)\"/>\n      <path id=\"DejaVuSans-64\" d=\"M 2906 2969 \nL 2906 4863 \nL 3481 4863 \nL 3481 0 \nL 2906 0 \nL 2906 525 \nQ 2725 213 2448 61 \nQ 2172 -91 1784 -91 \nQ 1150 -91 751 415 \nQ 353 922 353 1747 \nQ 353 2572 751 3078 \nQ 1150 3584 1784 3584 \nQ 2172 3584 2448 3432 \nQ 2725 3281 2906 2969 \nz\nM 947 1747 \nQ 947 1113 1208 752 \nQ 1469 391 1925 391 \nQ 2381 391 2643 752 \nQ 2906 1113 2906 1747 \nQ 2906 2381 2643 2742 \nQ 2381 3103 1925 3103 \nQ 1469 3103 1208 2742 \nQ 947 2381 947 1747 \nz\n\" transform=\"scale(0.015625)\"/>\n      <path id=\"DejaVuSans-70\" d=\"M 1159 525 \nL 1159 -1331 \nL 581 -1331 \nL 581 3500 \nL 1159 3500 \nL 1159 2969 \nQ 1341 3281 1617 3432 \nQ 1894 3584 2278 3584 \nQ 2916 3584 3314 3078 \nQ 3713 2572 3713 1747 \nQ 3713 922 3314 415 \nQ 2916 -91 2278 -91 \nQ 1894 -91 1617 61 \nQ 1341 213 1159 525 \nz\nM 3116 1747 \nQ 3116 2381 2855 2742 \nQ 2594 3103 2138 3103 \nQ 1681 3103 1420 2742 \nQ 1159 2381 1159 1747 \nQ 1159 1113 1420 752 \nQ 1681 391 2138 391 \nQ 2594 391 2855 752 \nQ 3116 1113 3116 1747 \nz\n\" transform=\"scale(0.015625)\"/>\n     </defs>\n     <use xlink:href=\"#DejaVuSans-56\"/>\n     <use xlink:href=\"#DejaVuSans-65\" transform=\"translate(60.658203 0)\"/>\n     <use xlink:href=\"#DejaVuSans-63\" transform=\"translate(122.181641 0)\"/>\n     <use xlink:href=\"#DejaVuSans-74\" transform=\"translate(177.162109 0)\"/>\n     <use xlink:href=\"#DejaVuSans-6f\" transform=\"translate(216.371094 0)\"/>\n     <use xlink:href=\"#DejaVuSans-72\" transform=\"translate(277.552734 0)\"/>\n     <use xlink:href=\"#DejaVuSans-20\" transform=\"translate(318.666016 0)\"/>\n     <use xlink:href=\"#DejaVuSans-76\" transform=\"translate(350.453125 0)\"/>\n     <use xlink:href=\"#DejaVuSans-20\" transform=\"translate(409.632812 0)\"/>\n     <use xlink:href=\"#DejaVuSans-69\" transform=\"translate(441.419922 0)\"/>\n     <use xlink:href=\"#DejaVuSans-6e\" transform=\"translate(469.203125 0)\"/>\n     <use xlink:href=\"#DejaVuSans-20\" transform=\"translate(532.582031 0)\"/>\n     <use xlink:href=\"#DejaVuSans-73\" transform=\"translate(564.369141 0)\"/>\n     <use xlink:href=\"#DejaVuSans-74\" transform=\"translate(616.46875 0)\"/>\n     <use xlink:href=\"#DejaVuSans-61\" transform=\"translate(655.677734 0)\"/>\n     <use xlink:href=\"#DejaVuSans-6e\" transform=\"translate(716.957031 0)\"/>\n     <use xlink:href=\"#DejaVuSans-64\" transform=\"translate(780.335938 0)\"/>\n     <use xlink:href=\"#DejaVuSans-61\" transform=\"translate(843.8125 0)\"/>\n     <use xlink:href=\"#DejaVuSans-72\" transform=\"translate(905.091797 0)\"/>\n     <use xlink:href=\"#DejaVuSans-64\" transform=\"translate(944.455078 0)\"/>\n     <use xlink:href=\"#DejaVuSans-20\" transform=\"translate(1007.931641 0)\"/>\n     <use xlink:href=\"#DejaVuSans-70\" transform=\"translate(1039.71875 0)\"/>\n     <use xlink:href=\"#DejaVuSans-6f\" transform=\"translate(1103.195312 0)\"/>\n     <use xlink:href=\"#DejaVuSans-73\" transform=\"translate(1164.376953 0)\"/>\n     <use xlink:href=\"#DejaVuSans-69\" transform=\"translate(1216.476562 0)\"/>\n     <use xlink:href=\"#DejaVuSans-74\" transform=\"translate(1244.259766 0)\"/>\n     <use xlink:href=\"#DejaVuSans-69\" transform=\"translate(1283.46875 0)\"/>\n     <use xlink:href=\"#DejaVuSans-6f\" transform=\"translate(1311.251953 0)\"/>\n     <use xlink:href=\"#DejaVuSans-6e\" transform=\"translate(1372.433594 0)\"/>\n    </g>\n   </g>\n  </g>\n </g>\n <defs>\n  <clipPath id=\"p263e0d8209\">\n   <rect x=\"52.388438\" y=\"25.965375\" width=\"266.112\" height=\"266.112\"/>\n  </clipPath>\n </defs>\n</svg>\n"
          },
          "metadata": {}
        }
      ]
    },
    {
      "cell_type": "code",
      "metadata": {
        "id": "Vf-wu4LtfBOp"
      },
      "source": [
        "# A range of starting positions\n",
        "\n",
        "startPos = [\n",
        "            [0,0],\n",
        "            [-1,-1],\n",
        "            [1.5,-2]\n",
        "            ]\n",
        "\n",
        "\n",
        "# create a new figure\n",
        "fig = plt.figure(figsize=(6,6))\n",
        "\n",
        "for s in startPos:\n",
        "\n",
        "  # plot that vector (and a dot for the tail)\n",
        "  # note that plt.arrow automatically adds an offset to the third/fourth inputs\n",
        "  plt.arrow(s[0],s[1],v[0],v[1],head_width=.5,width=.1,color='black')\n",
        "  plt.plot(s[0],s[1],'ko',markerfacecolor='k',markersize=7)\n",
        "\n",
        "  # indicate the vector in its standard position\n",
        "  if s==[0,0]:\n",
        "    plt.text(v[0]+.1,v[1]+.2,'\"Standard pos.\"')\n",
        "\n",
        "\n",
        "# add axis lines\n",
        "plt.plot([-3,3],[0,0],'--',color=[.8,.8,.8],zorder=-1)\n",
        "plt.plot([0,0],[-3,3],'--',color=[.8,.8,.8],zorder=-1)\n",
        "\n",
        "# make the plot look nicer\n",
        "plt.axis('square')\n",
        "plt.axis([-3,3,-3,3])\n",
        "plt.xlabel('$v_0$')\n",
        "plt.ylabel('$v_1$')\n",
        "plt.title('Vector $\\mathbf{v}$ in various locations')\n",
        "plt.savefig('Figure_02_01.png',dpi=300) # write out the fig to a file\n",
        "plt.show()"
      ],
      "execution_count": null,
      "outputs": []
    },
    {
      "cell_type": "markdown",
      "metadata": {
        "id": "RmDpBhPLfBRx"
      },
      "source": [
        "# Adding vectors"
      ]
    },
    {
      "cell_type": "code",
      "metadata": {
        "id": "9na0binQg4tg",
        "colab": {
          "base_uri": "https://localhost:8080/"
        },
        "outputId": "029872ff-097a-4fb4-a2f7-77a7bf703dbc"
      },
      "source": [
        "# Using 2D vectors here instead of 3D vectors in the book to facilitate visualization\n",
        "v = np.array([1,2])\n",
        "w = np.array([4,-6])\n",
        "vPlusW = v+w\n",
        "\n",
        "# print out all three vectors\n",
        "print(v)\n",
        "print(w)\n",
        "print(vPlusW)\n",
        "\n",
        "# Note that here we don't need to worry about vector orientation (row vs. column),\n",
        "# so for simplicity the vectors are created orientationless."
      ],
      "execution_count": 7,
      "outputs": [
        {
          "output_type": "stream",
          "name": "stdout",
          "text": [
            "[1 2]\n",
            "[ 4 -6]\n",
            "[ 5 -4]\n"
          ]
        }
      ]
    },
    {
      "cell_type": "code",
      "metadata": {
        "id": "6WUKBXsCALJm"
      },
      "source": [
        "# Where's the code to generate Figure 3-2?\n",
        "# It's exercise 0!"
      ],
      "execution_count": null,
      "outputs": []
    },
    {
      "cell_type": "markdown",
      "metadata": {
        "id": "TGxmt6X3Cj6w"
      },
      "source": [
        "# Subtracting vectors"
      ]
    },
    {
      "cell_type": "code",
      "metadata": {
        "id": "bqZj44Z3Cmrx"
      },
      "source": [
        "# Same v and w as above for comparison\n",
        "vMinusW = v-w\n",
        "\n",
        "# print out all three vectors\n",
        "print(v)\n",
        "print(w)\n",
        "print(vMinusW)"
      ],
      "execution_count": null,
      "outputs": []
    },
    {
      "cell_type": "code",
      "metadata": {
        "id": "wMHKSzKFCc_3"
      },
      "source": [
        "# Code for Figure 3-2 is part of Exercise 0."
      ],
      "execution_count": null,
      "outputs": []
    },
    {
      "cell_type": "markdown",
      "metadata": {
        "id": "_kSQSRE-fBUp"
      },
      "source": [
        "# Vector-scalar multiplication"
      ]
    },
    {
      "cell_type": "code",
      "metadata": {
        "id": "stq0frvmihiN"
      },
      "source": [
        "# a scalar\n",
        "s = -1/2\n",
        "\n",
        "# a vector\n",
        "b = np.array([3,4])\n",
        "\n",
        "# print them\n",
        "print(b*s)\n",
        "\n",
        "# Question: Does vector b need to be a numpy array? What happens if it's a list?"
      ],
      "execution_count": null,
      "outputs": []
    },
    {
      "cell_type": "code",
      "source": [
        "# Scalar-vector addition\n",
        "s = 3.5\n",
        "\n",
        "print(v)\n",
        "print(s+v)"
      ],
      "metadata": {
        "id": "jgNODDx_ltdn"
      },
      "execution_count": null,
      "outputs": []
    },
    {
      "cell_type": "code",
      "metadata": {
        "id": "WXEjiVKJihk8"
      },
      "source": [
        "# plot\n",
        "plt.plot([0,b[0]],[0,b[1]],'m--',linewidth=3,label='b')\n",
        "plt.plot([0,s*b[0]],[0,s*b[1]],'k:',linewidth=3,label='sb')\n",
        "\n",
        "plt.grid()\n",
        "plt.axis('square')\n",
        "plt.axis([-6,6,-6,6])\n",
        "plt.legend()\n",
        "plt.show()"
      ],
      "execution_count": null,
      "outputs": []
    },
    {
      "cell_type": "code",
      "metadata": {
        "id": "VI1nLhJyihns"
      },
      "source": [
        "# Effects of different scalars\n",
        "\n",
        "# a list of scalars:\n",
        "scalars = [ 1, 2, 1/3, 0, -2/3 ]\n",
        "\n",
        "baseVector = np.array([ .75,1 ])\n",
        "\n",
        "# create a figure\n",
        "fig,axs = plt.subplots(1,len(scalars),figsize=(12,3))\n",
        "i = 0 # axis counter\n",
        "\n",
        "for s in scalars:\n",
        "\n",
        "  # compute the scaled vector\n",
        "  v = s*baseVector\n",
        "\n",
        "  # plot it\n",
        "  axs[i].arrow(0,0,baseVector[0],baseVector[1],head_width=.3,width=.1,color='k',length_includes_head=True)\n",
        "  axs[i].arrow(.1,0,v[0],v[1],head_width=.3,width=.1,color=[.75,.75,.75],length_includes_head=True)\n",
        "  axs[i].grid(linestyle='--')\n",
        "  axs[i].axis('square')\n",
        "  axs[i].axis([-2.5,2.5,-2.5,2.5])\n",
        "  axs[i].set(xticks=np.arange(-2,3), yticks=np.arange(-2,3))\n",
        "  axs[i].set_title(f'$\\sigma$ = {s:.2f}')\n",
        "  i+=1 # update axis counter\n",
        "\n",
        "plt.tight_layout()\n",
        "plt.savefig('Figure_02_03.png',dpi=300)\n",
        "plt.show()\n"
      ],
      "execution_count": null,
      "outputs": []
    },
    {
      "cell_type": "markdown",
      "metadata": {
        "id": "KcF07aOdihqE"
      },
      "source": [
        "# Vector transpose"
      ]
    },
    {
      "cell_type": "code",
      "metadata": {
        "id": "-EEhEycVwXNO"
      },
      "source": [
        "# Row vector\n",
        "r = np.array([ [1,2,3] ])\n",
        "\n",
        "# orientationless array\n",
        "l = np.array([1,2,3])"
      ],
      "execution_count": null,
      "outputs": []
    },
    {
      "cell_type": "code",
      "metadata": {
        "id": "576musu6wXV1"
      },
      "source": [
        "# print out the vector, its transpose, and its double-transpose\n",
        "print(r), print(' ')\n",
        "\n",
        "# Transpose the row vector\n",
        "print(r.T), print(' ')\n",
        "\n",
        "# double-transpose\n",
        "print(r.T.T)"
      ],
      "execution_count": null,
      "outputs": []
    },
    {
      "cell_type": "code",
      "metadata": {
        "id": "Mx6I2nH0wXZF"
      },
      "source": [
        "# Same for the orientationless array\n",
        "print(l), print(' ')\n",
        "print(l.T), print(' ')\n",
        "print(l.T.T)"
      ],
      "execution_count": null,
      "outputs": []
    },
    {
      "cell_type": "code",
      "metadata": {
        "id": "XuYbMcdXwXb-"
      },
      "source": [],
      "execution_count": null,
      "outputs": []
    },
    {
      "cell_type": "markdown",
      "source": [
        "# The dot product is distributive"
      ],
      "metadata": {
        "id": "toCvM6BReALV"
      }
    },
    {
      "cell_type": "code",
      "source": [
        "# just some random vectors...\n",
        "v = np.array([ 0,1,2 ])\n",
        "w = np.array([ 3,5,8 ])\n",
        "u = np.array([ 13,21,34 ])\n",
        "\n",
        "# two ways to comptue\n",
        "res1 = np.dot( v, w+u )\n",
        "res2 = np.dot( v,w ) + np.dot( v,u )\n",
        "\n",
        "# show that they are equivalent\n",
        "res1,res2"
      ],
      "metadata": {
        "id": "zlM0uJIceELT"
      },
      "execution_count": null,
      "outputs": []
    },
    {
      "cell_type": "code",
      "source": [],
      "metadata": {
        "id": "OqSuPgvHeANu"
      },
      "execution_count": null,
      "outputs": []
    },
    {
      "cell_type": "markdown",
      "metadata": {
        "id": "VnF9n7PDwXgN"
      },
      "source": [
        "# Solutions to code exercises"
      ]
    },
    {
      "cell_type": "markdown",
      "source": [
        "# Exercise 1"
      ],
      "metadata": {
        "id": "0Ia7D2RuEPCY"
      }
    },
    {
      "cell_type": "code",
      "source": [
        "# The vectors\n",
        "v = np.array([1,2])\n",
        "w = np.array([4,-6])\n",
        "vPlusW = v+w\n",
        "\n",
        "\n",
        "# now plot all three vectors\n",
        "plt.figure(figsize=(6,6))\n",
        "\n",
        "a1 = plt.arrow(0,0,v[0],v[1],head_width=.3,width=.1,color='k',length_includes_head=True)\n",
        "a2 = plt.arrow(v[0],v[1],w[0],w[1],head_width=.3,width=.1,color=[.5,.5,.5],length_includes_head=True)\n",
        "a3 = plt.arrow(0,0,vPlusW[0],vPlusW[1],head_width=.3,width=.1,color=[.8,.8,.8],length_includes_head=True)\n",
        "\n",
        "\n",
        "# make the plot look a bit nicer\n",
        "plt.grid(linestyle='--',linewidth=.5)\n",
        "plt.axis('square')\n",
        "plt.axis([-6,6,-6,6])\n",
        "plt.legend([a1,a2,a3],['v','w','v+w'])\n",
        "plt.title('Vectors $\\mathbf{v}$, $\\mathbf{w}$, and $\\mathbf{v+w}$')\n",
        "plt.savefig('Figure_02_02a.png',dpi=300) # write out the fig to a file\n",
        "plt.show()"
      ],
      "metadata": {
        "id": "Jzlps2LlEQRb"
      },
      "execution_count": null,
      "outputs": []
    },
    {
      "cell_type": "code",
      "source": [
        "# vector difference\n",
        "vMinusW = v-w\n",
        "\n",
        "\n",
        "# now plot all three vectors\n",
        "plt.figure(figsize=(6,6))\n",
        "\n",
        "a1 = plt.arrow(0,0,v[0],v[1],head_width=.3,width=.1,color='k',length_includes_head=True)\n",
        "a2 = plt.arrow(0,0,w[0],w[1],head_width=.3,width=.1,color=[.5,.5,.5],length_includes_head=True)\n",
        "a3 = plt.arrow(w[0],w[1],vMinusW[0],vMinusW[1],head_width=.3,width=.1,color=[.8,.8,.8],length_includes_head=True)\n",
        "\n",
        "\n",
        "# make the plot look a bit nicer\n",
        "plt.grid(linestyle='--',linewidth=.5)\n",
        "plt.axis('square')\n",
        "plt.axis([-6,6,-6,6])\n",
        "plt.legend([a1,a2,a3],['v','w','v-w'])\n",
        "plt.title('Vectors $\\mathbf{v}$, $\\mathbf{w}$, and $\\mathbf{v-w}$')\n",
        "plt.savefig('Figure_02_02b.png',dpi=300)\n",
        "plt.show()"
      ],
      "metadata": {
        "id": "bFk5NUHeEjVe"
      },
      "execution_count": null,
      "outputs": []
    },
    {
      "cell_type": "code",
      "source": [],
      "metadata": {
        "id": "aEyAijHeEQZi"
      },
      "execution_count": null,
      "outputs": []
    },
    {
      "cell_type": "markdown",
      "source": [
        "# Exercise 2"
      ],
      "metadata": {
        "id": "5lhI6njFMIv0"
      }
    },
    {
      "cell_type": "code",
      "source": [
        "\n",
        "# the function\n",
        "def normOfVect(v):\n",
        "  return np.sqrt(np.sum(v**2))\n",
        "\n",
        "# test it on a unit-norm vector\n",
        "w = np.array([0,0,1])\n",
        "print( normOfVect(w) )\n",
        "\n",
        "# non-unit-norm vector, and confirm using np.linalg.norm\n",
        "w = np.array([1,2,3])\n",
        "print( normOfVect(w),np.linalg.norm(w) )"
      ],
      "metadata": {
        "id": "2IBYC8qKp_4w"
      },
      "execution_count": null,
      "outputs": []
    },
    {
      "cell_type": "code",
      "source": [],
      "metadata": {
        "id": "VsA3W7EZO3KC"
      },
      "execution_count": null,
      "outputs": []
    },
    {
      "cell_type": "markdown",
      "source": [
        "# Exercise 3"
      ],
      "metadata": {
        "id": "8ki-fdMqPEGj"
      }
    },
    {
      "cell_type": "code",
      "source": [
        "\n",
        "# define function\n",
        "def createUnitVector(v):\n",
        "  # get vector norm\n",
        "  mu = np.linalg.norm(v)\n",
        "  # return unit vector\n",
        "  return v / mu\n",
        "\n",
        "\n",
        "# test on a unit vector\n",
        "w = np.array([0,1,0])\n",
        "print( createUnitVector(w) )\n",
        "\n",
        "# test on a non-unit vector that is easy to confirm\n",
        "w = np.array([0,3,0])\n",
        "print( createUnitVector(w) )\n",
        "\n",
        "# test on a non-unit vector\n",
        "w = np.array([13,-5,7])\n",
        "uw = createUnitVector(w)\n",
        "print( uw ), print(' ')\n",
        "# confirm the vectors' norms\n",
        "print( np.linalg.norm(w),np.linalg.norm(uw) )\n",
        "\n",
        "# what happens with the zeros vector?\n",
        "print('\\n\\n\\n') # just some spaces\n",
        "createUnitVector( np.zeros((4,1)) )"
      ],
      "metadata": {
        "id": "mRKCY5NAqDnB"
      },
      "execution_count": null,
      "outputs": []
    },
    {
      "cell_type": "code",
      "source": [],
      "metadata": {
        "id": "WuM2gunEO68_"
      },
      "execution_count": null,
      "outputs": []
    },
    {
      "cell_type": "markdown",
      "source": [
        "# Exercise 4"
      ],
      "metadata": {
        "id": "dDtSlk5RRyT0"
      }
    },
    {
      "cell_type": "code",
      "source": [
        "# define the function\n",
        "def createMagVector(v,mag):\n",
        "  # get vector norm\n",
        "  mu = np.linalg.norm(v)\n",
        "  # return scaled vector\n",
        "  return mag * v / mu\n",
        "\n",
        "# test on a vector that is easy to confirm\n",
        "w = np.array([1,0,0])\n",
        "mw = createMagVector(w,4)\n",
        "print( mw )\n",
        "\n",
        "# confirm the vectors' norms\n",
        "print( np.linalg.norm(w),np.linalg.norm(mw) )\n"
      ],
      "metadata": {
        "id": "ar0fVeCdqGXd"
      },
      "execution_count": null,
      "outputs": []
    },
    {
      "cell_type": "code",
      "source": [],
      "metadata": {
        "id": "2CK7U4qxO-Fd"
      },
      "execution_count": null,
      "outputs": []
    },
    {
      "cell_type": "markdown",
      "source": [
        "# Exercise 5"
      ],
      "metadata": {
        "id": "PLaa7qtQK2Lh"
      }
    },
    {
      "cell_type": "code",
      "source": [
        "# the row vector to transpose\n",
        "v = np.array([[1,2,3]])\n",
        "\n",
        "# initialize the column vector\n",
        "vt = np.zeros((3,1))\n",
        "\n",
        "# direct implementation of the formula using a for loop\n",
        "for i in range(v.shape[1]):\n",
        "  vt[i,0] = v[0,i]\n",
        "\n",
        "# confirm!\n",
        "print(v), print(' ')\n",
        "print(vt)\n",
        "\n",
        "# Note about data types: The two vectors actually have different data types\n",
        "#  (ints vs. floats). That happened because I defined v using ints while the default type\n",
        "#  for np.zeros is float. You can match data types in several ways, including:\n",
        "#  (1) write 3. instead of 3 when creating v; (2) use dtype=np.float as an optional input."
      ],
      "metadata": {
        "id": "_bDlky_EqJmV"
      },
      "execution_count": null,
      "outputs": []
    },
    {
      "cell_type": "code",
      "source": [],
      "metadata": {
        "id": "p267dm8cPHnL"
      },
      "execution_count": null,
      "outputs": []
    },
    {
      "cell_type": "markdown",
      "source": [
        "# Exercise 6"
      ],
      "metadata": {
        "id": "WG4o7KMwK2Oe"
      }
    },
    {
      "cell_type": "code",
      "source": [
        "# some vector\n",
        "c = np.random.randn(5)\n",
        "\n",
        "# squared norm as dot product with itself\n",
        "sqrNrm1 = np.dot(c,c)\n",
        "\n",
        "# squared norm via our function from exercise 1\n",
        "sqrNrm2 = normOfVect(c)**2\n",
        "\n",
        "# print both to confirm they're the same\n",
        "print( sqrNrm1 )\n",
        "print( sqrNrm2 )"
      ],
      "metadata": {
        "id": "TixOP_P-qMVg"
      },
      "execution_count": null,
      "outputs": []
    },
    {
      "cell_type": "code",
      "source": [],
      "metadata": {
        "id": "3fMvZGNrPZgx"
      },
      "execution_count": null,
      "outputs": []
    },
    {
      "cell_type": "markdown",
      "source": [
        "# Exercise 7"
      ],
      "metadata": {
        "id": "uNFCPFrWK2Rv"
      }
    },
    {
      "cell_type": "code",
      "source": [
        "# dimensionality\n",
        "n = 11\n",
        "\n",
        "# some random column vectors\n",
        "a = np.random.randn(n,1)\n",
        "b = np.random.randn(n,1)\n",
        "\n",
        "# dot products both ways\n",
        "atb = np.sum(a*b)\n",
        "bta = np.sum(b*a)\n",
        "\n",
        "# they're equal if their difference is 0\n",
        "atb - bta\n",
        "\n",
        "# For an extra challenge, see what happens when you use np.dot() to compute the dot products."
      ],
      "metadata": {
        "id": "Nm42fqcaqOi6"
      },
      "execution_count": null,
      "outputs": []
    },
    {
      "cell_type": "markdown",
      "source": [
        "# Exercise 8"
      ],
      "metadata": {
        "id": "peki_RfFegnb"
      }
    },
    {
      "cell_type": "code",
      "source": [
        "# the vectors a and b\n",
        "a = np.array([1,2])\n",
        "b = np.array([1.5,.5])\n",
        "\n",
        "# compute beta\n",
        "beta = np.dot(a,b) / np.dot(a,a)\n",
        "\n",
        "# compute the projection vector (not explicitly used in the plot)\n",
        "projvect = b - beta*a\n",
        "\n",
        "\n",
        "# draw the figure\n",
        "plt.figure(figsize=(4,4))\n",
        "\n",
        "# vectors\n",
        "plt.arrow(0,0,a[0],a[1],head_width=.2,width=.02,color='k',length_includes_head=True)\n",
        "plt.arrow(0,0,b[0],b[1],head_width=.2,width=.02,color='k',length_includes_head=True)\n",
        "\n",
        "# projection vector\n",
        "plt.plot([b[0],beta*a[0]],[b[1],beta*a[1]],'k--')\n",
        "\n",
        "# projection on a\n",
        "plt.plot(beta*a[0],beta*a[1],'ko',markerfacecolor='w',markersize=13)\n",
        "\n",
        "# make the plot look nicer\n",
        "plt.plot([-1,2.5],[0,0],'--',color='gray',linewidth=.5)\n",
        "plt.plot([0,0],[-1,2.5],'--',color='gray',linewidth=.5)\n",
        "\n",
        "# add labels\n",
        "plt.text(a[0]+.1,a[1],'a',fontweight='bold',fontsize=18)\n",
        "plt.text(b[0],b[1]-.3,'b',fontweight='bold',fontsize=18)\n",
        "plt.text(beta*a[0]-.35,beta*a[1],r'$\\beta$',fontweight='bold',fontsize=18)\n",
        "plt.text((b[0]+beta*a[0])/2,(b[1]+beta*a[1])/2+.1,r'(b-$\\beta$a)',fontweight='bold',fontsize=18)\n",
        "\n",
        "# some finishing touches\n",
        "plt.axis('square')\n",
        "plt.axis([-1,2.5,-1,2.5])\n",
        "plt.show()"
      ],
      "metadata": {
        "id": "xhsmQq4sqQ-e"
      },
      "execution_count": null,
      "outputs": []
    },
    {
      "cell_type": "code",
      "source": [],
      "metadata": {
        "id": "nM9xPKX5Sepk"
      },
      "execution_count": null,
      "outputs": []
    },
    {
      "cell_type": "markdown",
      "source": [
        "# Exercise 9"
      ],
      "metadata": {
        "id": "sZM4JqfVajCq"
      }
    },
    {
      "cell_type": "code",
      "source": [
        "# generate random R2 vectors (note: no orientation here! we don't need it for this exercise)\n",
        "t = np.random.randn(2)\n",
        "r = np.random.randn(2)\n",
        "\n",
        "# the decomposition\n",
        "t_para = r * (np.dot(t,r) / np.dot(r,r))\n",
        "t_perp = t - t_para\n",
        "\n",
        "# confirm that the two components sum to the target\n",
        "print(t)\n",
        "print( t_para+t_perp )\n",
        "\n",
        "# confirm orthogonality (dot product must be zero!)\n",
        "print( np.dot(t_para,t_perp) )\n",
        "# Note about this result: Due to numerical precision errors,\n",
        "#   you might get a result of something like 10^-17, which can be interpretd as zero.\n",
        "\n",
        "\n",
        "\n",
        "# draw them!\n",
        "plt.figure(figsize=(6,6))\n",
        "\n",
        "# draw main vectors\n",
        "plt.plot([0,t[0]],[0,t[1]],color='k',linewidth=3,label=r'$\\mathbf{t}$')\n",
        "plt.plot([0,r[0]],[0,r[1]],color=[.7,.7,.7],linewidth=3,label=r'$\\mathbf{r}$')\n",
        "\n",
        "# draw decomposed vector components\n",
        "plt.plot([0,t_para[0]],[0,t_para[1]],'k--',linewidth=3,label=r'$\\mathbf{t}_{\\|}$')\n",
        "plt.plot([0,t_perp[0]],[0,t_perp[1]],'k:',linewidth=3,label=r'$\\mathbf{t}_{\\perp}$')\n",
        "\n",
        "plt.axis('equal')\n",
        "plt.legend()\n",
        "plt.savefig('Figure_02_08.png',dpi=300)\n",
        "plt.show()"
      ],
      "metadata": {
        "id": "VaxGL2QUqZFn"
      },
      "execution_count": null,
      "outputs": []
    },
    {
      "cell_type": "markdown",
      "source": [
        "# Exercise 10"
      ],
      "metadata": {
        "id": "vSS3N5NdiAlo"
      }
    },
    {
      "cell_type": "code",
      "source": [
        "# Replace t_para in the previous exercise with the line below:\n",
        "t_para = r * (np.dot(t,r) / np.dot(t,t))"
      ],
      "metadata": {
        "id": "C6NG78lhqbwq"
      },
      "execution_count": null,
      "outputs": []
    }
  ]
}